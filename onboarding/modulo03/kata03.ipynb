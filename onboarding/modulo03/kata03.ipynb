{
 "cells": [
  {
   "cell_type": "code",
   "execution_count": 1,
   "metadata": {},
   "outputs": [
    {
     "name": "stdout",
     "output_type": "stream",
     "text": [
      "La velocidad del asteroide es menor a 50 km/hr\n"
     ]
    }
   ],
   "source": [
    "#Un asteroide se acerca, y viaja a una velocidad de 49 km/s.\n",
    "# Añadir el código necesario para crear una variable que guarde la velocidad del asteroide.\n",
    "# Escribe una expresión de prueba para calcular si necesita una advertencia.\n",
    "# Agregue las instrucciones que se ejecutarán si la expresión de prueba es true o false.\n",
    "\n",
    "vel = int(input(\"Ingrese la velocidad del asteroide: \"))\n",
    "if vel > 50:\n",
    "    print(\"Advertencia! La velocidad del asteroide es mayor a 50 km/hr\")\n",
    "else:\n",
    "    print(\"La velocidad del asteroide es menor a 50 km/hr\")"
   ]
  },
  {
   "cell_type": "code",
   "execution_count": 4,
   "metadata": {},
   "outputs": [
    {
     "name": "stdout",
     "output_type": "stream",
     "text": [
      "Hay un asteroide que se dirige a la tierra a una velocidad de 19 km/hr\n",
      "No te rindas, sigue buscando\n"
     ]
    }
   ],
   "source": [
    "#Si un asteroide entra en la atmósfera de la Tierra a una velocidad mayor o igual a 20 km/s,\n",
    "#a veces produce un rayo de luz que se puede ver desde la Tierra. Escribe la lógica condicional\n",
    "#que usa declaraciones if, else, y elif para alertar a las personas de todo el mundo que \n",
    "# deben buscar un asteroide en el cielo. ¡Hay uno que se dirige a la tierra ahora a una \n",
    "# velocidad de 19 km/s!\n",
    "\n",
    "# Agrega el código para crear una variable para un asteroide que viaja a 19 km/s\n",
    "# Escribe varias expresiones de prueba para determinar si puedes ver el rayo de luz desde la tierra\n",
    "# Agrega las instrucciones que se ejecutarán si las expresiones de prueba son True o False\n",
    "\n",
    "velocidad = int(input(\"Ingrese la velocidad del asteroide: \"))\n",
    "if velocidad >= 20:\n",
    "    print(\"Hay un asteroide que se dirige a la tierra a una velocidad de +20 km/hr\")\n",
    "    ver = input(\"Puedes ver el rayo de luz desde la tierra? (si/no)\")\n",
    "    if ver.lower() == \"si\":\n",
    "        print(\"pronto toma una foto y compartela a tus contactos\")\n",
    "    elif ver.lower() == \"no\":\n",
    "        print(\"No te rindas, sigue buscando\")\n",
    "    else:\n",
    "        print(\"La respuesta que has ingresado no esta dentro de las opciones\")\n",
    "else:\n",
    "    print(\"No hay un asteroide que se dirige a la tierra a una velocidad de 19 km/hr\")"
   ]
  },
  {
   "cell_type": "code",
   "execution_count": 6,
   "metadata": {},
   "outputs": [
    {
     "ename": "IndentationError",
     "evalue": "expected an indented block after 'if' statement on line 9 (1232325334.py, line 9)",
     "output_type": "error",
     "traceback": [
      "\u001b[1;36m  Input \u001b[1;32mIn [6]\u001b[1;36m\u001b[0m\n\u001b[1;33m    if tamanio < 25:\u001b[0m\n\u001b[1;37m                    ^\u001b[0m\n\u001b[1;31mIndentationError\u001b[0m\u001b[1;31m:\u001b[0m expected an indented block after 'if' statement on line 9\n"
     ]
    }
   ],
   "source": [
    "# Agrega el código para crear nuevas variables para la velocidad y el tamaño del asteroide\n",
    "# Para probar el código, prueba con varias velocidades y tamaños\n",
    "# Escribe varias expresiones de prueba o combinaciones de expresiones de prueba para \n",
    "# determinar qué mensaje se debe enviar a Ti\n",
    "\n",
    "vel = int(input(\"Ingrese la velocidad del asteroide: \"))\n",
    "tamanio = int(input(\"Ingrese el tamaño del asteroide: \"))\n",
    "\n",
    "if tamanio <= 25:\n",
    "    print(\"Es un asteroide pequenio, no corremos peligro\")\n",
    "    if vel > 25:\n",
    "        print(\"Alerta! El asteroide se acerca a más de 25km/s\")\n",
    "    if vel >= 20:\n",
    "        print(\"Hay un asteroide que se dirige a la tierra a una velocidad de +20 km/hr\")\n",
    "        ver = input(\"Puedes ver el rayo de luz desde la tierra? (si/no)\")\n",
    "        if ver.lower() == \"si\":\n",
    "            print(\"pronto toma una foto y compartela a tus contactos\")\n",
    "        elif ver.lower() == \"no\":\n",
    "            print(\"No te rindas, sigue buscando\")\n",
    "        else:\n",
    "            print(\"La respuesta que has ingresado no esta dentro de las opciones\")\n",
    "    elif vel < 20:\n",
    "        print(\"No hay un asteroide que se dirige a la tierra a una velocidad de 19 km/hr\")\n",
    "    \n"
   ]
  },
  {
   "cell_type": "code",
   "execution_count": null,
   "metadata": {},
   "outputs": [],
   "source": []
  }
 ],
 "metadata": {
  "interpreter": {
   "hash": "5fc9bb91b1f027f1261034847e021690f206d26570b0cbe1b9f9dfc5c4de14fd"
  },
  "kernelspec": {
   "display_name": "Python 3.10.2 64-bit",
   "language": "python",
   "name": "python3"
  },
  "language_info": {
   "codemirror_mode": {
    "name": "ipython",
    "version": 3
   },
   "file_extension": ".py",
   "mimetype": "text/x-python",
   "name": "python",
   "nbconvert_exporter": "python",
   "pygments_lexer": "ipython3",
   "version": "3.10.2"
  },
  "orig_nbformat": 4
 },
 "nbformat": 4,
 "nbformat_minor": 2
}
