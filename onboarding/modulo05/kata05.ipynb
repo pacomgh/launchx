{
 "cells": [
  {
   "cell_type": "markdown",
   "metadata": {},
   "source": [
    "# Misión número 5: Los planetas"
   ]
  },
  {
   "cell_type": "markdown",
   "metadata": {},
   "source": [
    "### Misión 5.1 \n",
    "##### Descripción de la misión > \n",
    "##### Exploremos cómo podemos crear un programa que pueda calcular la distancia entre dos planetas. Comenzaremos usando dos distancias de planetas: Tierra (149.597.870 km) y Júpiter (778.547.200 km)."
   ]
  },
  {
   "cell_type": "code",
   "execution_count": 10,
   "metadata": {},
   "outputs": [
    {
     "name": "stdout",
     "output_type": "stream",
     "text": [
      "628949330\n",
      "390577533.93\n"
     ]
    }
   ],
   "source": [
    "dist_tierra = 149597870\n",
    "dist_jupiter = 778547200\n",
    "\n",
    "# Calculamos la distancia entre los planetas\n",
    "dist_total_km = (dist_tierra - dist_jupiter)\n",
    "dist_total_milla = dist_total_km * 0.621\n",
    "print(abs(dist_total_km))\n",
    "print(abs(dist_total_milla))"
   ]
  },
  {
   "cell_type": "markdown",
   "metadata": {},
   "source": [
    "### Misión 5.2 \n",
    "##### Descripción de la misión > \n",
    "##### Para crear nuestra aplicación, queremos leer la distancia del sol para dos planetas, y luego mostrar la distancia entre los planetas. Haremos esto usando input para leer los valores, int para convertir a entero y luego abs para convertir el resultado en su valor absoluto."
   ]
  },
  {
   "cell_type": "code",
   "execution_count": 7,
   "metadata": {},
   "outputs": [
    {
     "name": "stdout",
     "output_type": "stream",
     "text": [
      "50300000\n",
      "31261653.200745806\n"
     ]
    },
    {
     "data": {
      "text/plain": [
       "'para capturar varios planetas\\nfor i in range(cant):\\n    planeta = input(\"Ingrese el nombre del planeta: \")\\n    distancia = float(input(\"Ingrese la distancia al planeta: \"))\\n    \\n    planetas = planetas.append(planeta)\\n    distancias = distancias.append(distancia)\\n'"
      ]
     },
     "execution_count": 7,
     "metadata": {},
     "output_type": "execute_result"
    }
   ],
   "source": [
    "#leer los valores de los planetas\n",
    "planeta1 = input(\"Ingrese el nombre del primer planeta: \")\n",
    "distancia1 = int(input(\"Ingrese la distancia del primer planeta: \"))\n",
    "\n",
    "planeta1 = input(\"Ingrese el nombre del segundo planeta: \")\n",
    "distancia2 = int(input(\"Ingrese la distancia del segundo planeta: \"))\n",
    "\n",
    "dist_total_km = distancia1 - distancia2\n",
    "dist_total_km = abs(dist_total_km)\n",
    "print(dist_total_km)\n",
    "dist_total_milla = dist_total_km / 1.609\n",
    "print(dist_total_milla)\n",
    "\n",
    "\n",
    "\n",
    "#cant = int(input(\"Ingrese la cantidad de planetas: \"))\n",
    "'''para capturar varios planetas\n",
    "for i in range(cant):\n",
    "    planeta = input(\"Ingrese el nombre del planeta: \")\n",
    "    distancia = float(input(\"Ingrese la distancia al planeta: \"))\n",
    "    \n",
    "    planetas = planetas.append(planeta)\n",
    "    distancias = distancias.append(distancia)\n",
    "'''\n"
   ]
  },
  {
   "cell_type": "code",
   "execution_count": null,
   "metadata": {},
   "outputs": [],
   "source": []
  }
 ],
 "metadata": {
  "interpreter": {
   "hash": "5fc9bb91b1f027f1261034847e021690f206d26570b0cbe1b9f9dfc5c4de14fd"
  },
  "kernelspec": {
   "display_name": "Python 3.10.2 64-bit",
   "language": "python",
   "name": "python3"
  },
  "language_info": {
   "codemirror_mode": {
    "name": "ipython",
    "version": 3
   },
   "file_extension": ".py",
   "mimetype": "text/x-python",
   "name": "python",
   "nbconvert_exporter": "python",
   "pygments_lexer": "ipython3",
   "version": "3.10.2"
  },
  "orig_nbformat": 4
 },
 "nbformat": 4,
 "nbformat_minor": 2
}
