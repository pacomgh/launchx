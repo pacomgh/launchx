{
 "cells": [
  {
   "cell_type": "markdown",
   "metadata": {},
   "source": [
    "# Misión número 6: Lista de planetas"
   ]
  },
  {
   "cell_type": "markdown",
   "metadata": {},
   "source": [
    "### Misión 6.1 \n",
    "##### Descripción de la misión > \n",
    "##### Usar listas para almacenar nombres de planetas"
   ]
  },
  {
   "cell_type": "code",
   "execution_count": 19,
   "metadata": {},
   "outputs": [
    {
     "name": "stdout",
     "output_type": "stream",
     "text": [
      "Lista de planetas: ['Mercury', 'Venus', 'Earth', 'Mars', 'Jupiter', 'Saturn', 'Uranus', 'Neptune']\n",
      "\n",
      "\n",
      "Planeta agregado\n",
      "Pluto\n"
     ]
    }
   ],
   "source": [
    "planets = ['Mercury', 'Venus', 'Earth', 'Mars', 'Jupiter', 'Saturn', 'Uranus', 'Neptune']\n",
    "print(\"Lista de planetas: \"+str(planets))\n",
    "print(\"\\n\")\n",
    "print(\"Planeta agregado\")\n",
    "planets.append('Pluto')\n",
    "print(planets[-1])\n"
   ]
  },
  {
   "cell_type": "code",
   "execution_count": 14,
   "metadata": {},
   "outputs": [
    {
     "name": "stdout",
     "output_type": "stream",
     "text": [
      "Venus\n",
      "El planeta: Venus está en la posición 1\n"
     ]
    }
   ],
   "source": [
    "planets = ['Mercury', 'Venus', 'Earth', 'Mars', 'Jupiter', 'Saturn', 'Neptune']\n",
    "#Solicita el nombre de un planeta\n",
    "planet = input(\"Ingresa el nombre del planeta: \")\n",
    "#print(planet.capitalize())\n",
    "planet = planet.capitalize()\n",
    "#Encontrar el planeta en la lista\n",
    "planet_index = planets.index(planet)\n",
    "print(planets[planet_index])\n",
    "\n",
    "print(\"El planeta: \" + planets[planet_index] + \" está en la posición \" + str(planet_index))\n",
    "\n"
   ]
  },
  {
   "cell_type": "code",
   "execution_count": 17,
   "metadata": {},
   "outputs": [
    {
     "name": "stdout",
     "output_type": "stream",
     "text": [
      "Planetas más cercanos al sol: ['Mercury', 'Venus', 'Earth']\n",
      "Planetas más lejanos al sol: ['Mars', 'Jupiter', 'Saturn', 'Neptune']\n"
     ]
    }
   ],
   "source": [
    "#planetas más cercanos al sol\n",
    "nearests_planets = planets[0:3]\n",
    "print(\"Planetas más cercanos al sol: \" + str(nearests_planets))\n",
    "faraway_planets = planets[3:len(planets)]\n",
    "print(\"Planetas más lejanos al sol: \" + str(faraway_planets))"
   ]
  },
  {
   "cell_type": "code",
   "execution_count": null,
   "metadata": {},
   "outputs": [],
   "source": []
  }
 ],
 "metadata": {
  "interpreter": {
   "hash": "5fc9bb91b1f027f1261034847e021690f206d26570b0cbe1b9f9dfc5c4de14fd"
  },
  "kernelspec": {
   "display_name": "Python 3.10.2 64-bit",
   "language": "python",
   "name": "python3"
  },
  "language_info": {
   "codemirror_mode": {
    "name": "ipython",
    "version": 3
   },
   "file_extension": ".py",
   "mimetype": "text/x-python",
   "name": "python",
   "nbconvert_exporter": "python",
   "pygments_lexer": "ipython3",
   "version": "3.10.2"
  },
  "orig_nbformat": 4
 },
 "nbformat": 4,
 "nbformat_minor": 2
}
